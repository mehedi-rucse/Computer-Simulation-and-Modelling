{
 "cells": [
  {
   "cell_type": "code",
   "execution_count": 60,
   "metadata": {},
   "outputs": [],
   "source": [
    "def LCM(a, c, m, x0, n, randomNumbers):\n",
    "    randomNumbers[0] = x0\n",
    "    for i in range(1, n):\n",
    "        randomNumbers[i] = ((a * randomNumbers[i-1]) + c) % m\n",
    "    print (randomNumbers)\n",
    "    return randomNumbers\n"
   ]
  },
  {
   "cell_type": "code",
   "execution_count": 61,
   "metadata": {},
   "outputs": [
    {
     "name": "stdout",
     "output_type": "stream",
     "text": [
      "[115125, 863, 184, 516, 515, 403, 924, 986, 895, 753, 929, 541, 300, 443, 379, 246, 425, 373, 579, 536, 745, 33, 689, 796, 720, 248, 649, 336, 455, 718, 24, 686, 460, 273, 434, 376, 915, 983, 559, 306, 110, 268, 879, 971, 220, 528, 854, 181, 180, 68]\n",
      "[115125, 863, 184, 516, 515, 403, 924, 986, 895, 753, 929, 541, 300, 443, 379, 246, 425, 373, 579, 536, 745, 33, 689, 796, 720, 248, 649, 336, 455, 718, 24, 686, 460, 273, 434, 376, 915, 983, 559, 306, 110, 268, 879, 971, 220, 528, 854, 181, 180, 68]\n"
     ]
    }
   ],
   "source": [
    "def main():\n",
    "    a = 1117\n",
    "    c = 8\n",
    "    M = 1005\n",
    "    x0 = 115125\n",
    "    n = 50\n",
    "    randomNumbers = [0] * n\n",
    "    randomNo = LCM(a, c, M, x0, n, randomNumbers)\n",
    "    print(randomNo)\n",
    "if __name__ == \"__main__\":\n",
    "    main()\n"
   ]
  },
  {
   "cell_type": "code",
   "execution_count": null,
   "metadata": {},
   "outputs": [],
   "source": []
  }
 ],
 "metadata": {
  "kernelspec": {
   "display_name": "Python 3.9.5 64-bit",
   "language": "python",
   "name": "python3"
  },
  "language_info": {
   "codemirror_mode": {
    "name": "ipython",
    "version": 3
   },
   "file_extension": ".py",
   "mimetype": "text/x-python",
   "name": "python",
   "nbconvert_exporter": "python",
   "pygments_lexer": "ipython3",
   "version": "3.9.5"
  },
  "orig_nbformat": 4,
  "vscode": {
   "interpreter": {
    "hash": "c25269a4018224bb4e3cb6b79397037e31419b0dedc1b97e47175df2e08dbf7b"
   }
  }
 },
 "nbformat": 4,
 "nbformat_minor": 2
}
