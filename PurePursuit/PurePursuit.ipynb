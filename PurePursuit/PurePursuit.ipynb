{
 "cells": [
  {
   "cell_type": "code",
   "execution_count": 33,
   "metadata": {},
   "outputs": [],
   "source": [
    "def coord(pos):\n",
    "    \"Convert world coordinates to pixel coordinates.\"\n",
    "    return (3 * (pos[0] + 50), 6 * (pos[1] + 50))\n"
   ]
  },
  {
   "cell_type": "code",
   "execution_count": 34,
   "metadata": {},
   "outputs": [],
   "source": [
    "import math\n",
    "\n",
    "\n",
    "def calculateDistance(bomberPos, fighterPos):\n",
    "    y = pow(bomberPos[1]-fighterPos[1], 2)\n",
    "    x = pow(bomberPos[0] - fighterPos[0], 2)\n",
    "    return math.sqrt(y + x)\n"
   ]
  },
  {
   "cell_type": "code",
   "execution_count": 35,
   "metadata": {},
   "outputs": [
    {
     "data": {
      "text/plain": [
       "[(80, 0),\n",
       " (90, -2),\n",
       " (99, -5),\n",
       " (108, -9),\n",
       " (116, -15),\n",
       " (125, -18),\n",
       " (133, -23),\n",
       " (141, -29),\n",
       " (151, -28),\n",
       " (160, -25),\n",
       " (169, -21),\n",
       " (179, -20),\n",
       " (180, -17)]"
      ]
     },
     "execution_count": 35,
     "metadata": {},
     "output_type": "execute_result"
    }
   ],
   "source": [
    "\n",
    "VF = 20\n",
    "T = 0\n",
    "f = (0, 0)\n",
    "\n",
    "bPlane = []\n",
    "fPlane = [f]\n",
    "\n",
    "for line in open(\"Bomber_Path.txt\"):\n",
    "    t, x, y = line.strip().split(\",\")\n",
    "    t = int(t)\n",
    "    x = int(x)\n",
    "    y = int(y)\n",
    "    T = max(T, t)\n",
    "    bPlane.append((x, y))\n",
    "bPlane\n"
   ]
  },
  {
   "cell_type": "code",
   "execution_count": 36,
   "metadata": {},
   "outputs": [
    {
     "name": "stdout",
     "output_type": "stream",
     "text": [
      "Distance 80.0\n",
      "Distance 70.02856560004639\n",
      "Distance 59.17412485203673\n",
      "Distance 48.56154923963099\n",
      "Distance 37.64294662221735\n",
      "Distance 27.1218367609232\n",
      "Distance 16.408296293924632\n",
      "Distance 6.52001652914163\n"
     ]
    }
   ],
   "source": [
    "\n",
    "import pygame as pg\n",
    "pg.init()\n",
    "pg.display.set_caption(\"Pure Pursuit\")\n",
    "\n",
    "h,w = 1000,600\n",
    "screenSize = (h,w)\n",
    "screen = pg.display.set_mode(screenSize)\n",
    "f = pg.font.get_fonts()[0]\n",
    "font = pg.font.SysFont(f,32)\n",
    "\n",
    "bomberPos = font.render(\"B\",True,(255, 0, 0),(0,0,0))\n",
    "fighterPos = font.render(\"F\", True, (0, 255, 0), (0, 0, 0))\n",
    "catchPos = font.render(\"Caught\",True,(0,255,0),(0,0,0))\n",
    "escapePos = font.render(\"Escaped\",True,(255,0,0),(0,0,0))\n",
    "\n",
    "textRect1 = bomberPos.get_rect()\n",
    "textRect2 = fighterPos.get_rect()\n",
    "textRect3 = catchPos.get_rect()\n",
    "textRect4 = escapePos.get_rect()\n",
    "running = True\n",
    "t = 0\n",
    "while running:\n",
    "    screen.fill((0,0,0))\n",
    "    for event in pg.event.get():\n",
    "        if event.type == pg.QUIT:\n",
    "            running = False\n",
    "    \n",
    "        while t<T and running:\n",
    "            pg.time.delay(90)\n",
    "            timePos = font.render(\"Time: \"+str(t),True,(255,255,255),(0,0,0))\n",
    "            textRect5 = timePos.get_rect()\n",
    "            textRect5.center = (700,500)\n",
    "            screen.blit(timePos, textRect5)\n",
    "\n",
    "            if (t >= 11):\n",
    "                textRect4.center = (h/2,w/2)\n",
    "                screen.blit(escapePos,textRect4)\n",
    "                running = False\n",
    "\n",
    "            elif t > 0:\n",
    "                pg.draw.line(screen, (0, 255, 0), (coord(fPlane[t])), (coord(fPlane[t-1])),2)\n",
    "                pg.draw.line(screen, (255, 0, 0), (coord(\n",
    "                    bPlane[t])), (coord(bPlane[t-1])), 2)\n",
    "                pg.draw.circle(screen, (255, 255, 255), (coord(fPlane[t])),5)\n",
    "                pg.draw.circle(screen, (255, 255, 255), (coord(bPlane[t])),5)\n",
    "            else :\n",
    "                textRect1.center = coord(bPlane[t])\n",
    "                textRect2.center = coord(fPlane[t])\n",
    "                screen.blit(bomberPos,textRect1)\n",
    "                screen.blit(fighterPos,textRect2)\n",
    "\n",
    "            dist = calculateDistance(bPlane[t], fPlane[t])\n",
    "            print(\"Distance {}\".format(dist))\n",
    "\n",
    "            if (dist <= 10):\n",
    "                textRect3.center = (h/2, w/2)\n",
    "                screen.blit(catchPos, textRect3)\n",
    "                running = False\n",
    "\n",
    "            xf = fPlane[t][0] + VF * ((bPlane[t][0] - fPlane[t][0])/dist)\n",
    "            yf = fPlane[t][1] + VF * ((bPlane[t][1] - fPlane[t][1])/dist)\n",
    "            fPlane.append((xf,yf))\n",
    "            t = t + 1\n",
    "            pg.display.flip()\n",
    "        running = False\n",
    "    pg.time.delay(300)\n",
    "    pg.quit()\n",
    "\n",
    " \n"
   ]
  }
 ],
 "metadata": {
  "kernelspec": {
   "display_name": "Python 3.9.5 64-bit",
   "language": "python",
   "name": "python3"
  },
  "language_info": {
   "codemirror_mode": {
    "name": "ipython",
    "version": 3
   },
   "file_extension": ".py",
   "mimetype": "text/x-python",
   "name": "python",
   "nbconvert_exporter": "python",
   "pygments_lexer": "ipython3",
   "version": "3.9.5"
  },
  "orig_nbformat": 4,
  "vscode": {
   "interpreter": {
    "hash": "c25269a4018224bb4e3cb6b79397037e31419b0dedc1b97e47175df2e08dbf7b"
   }
  }
 },
 "nbformat": 4,
 "nbformat_minor": 2
}
